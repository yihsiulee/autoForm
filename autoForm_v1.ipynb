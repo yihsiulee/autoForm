{
 "cells": [
  {
   "cell_type": "markdown",
   "id": "2dbddfc9",
   "metadata": {},
   "source": [
    "# 自動填入google表單"
   ]
  },
  {
   "cell_type": "markdown",
   "id": "4787e60b",
   "metadata": {},
   "source": [
    "## 方法1. 用selenium來填入選項與click button"
   ]
  },
  {
   "cell_type": "code",
   "execution_count": 14,
   "id": "36e5f317",
   "metadata": {},
   "outputs": [],
   "source": [
    "import re\n",
    "import time\n",
    "import random\n",
    "import numpy as np\n",
    "import requests as rq\n",
    "from bs4 import BeautifulSoup\n",
    "from selenium import webdriver\n",
    "from selenium.webdriver.chrome.options import Options\n",
    "from webdriver_manager.chrome import ChromeDriverManager\n",
    "from webdriver_manager.utils import ChromeType"
   ]
  },
  {
   "cell_type": "markdown",
   "id": "501a3b02",
   "metadata": {},
   "source": [
    "### 用selenium開啟網頁"
   ]
  },
  {
   "cell_type": "code",
   "execution_count": 15,
   "id": "0d35b9fc",
   "metadata": {},
   "outputs": [],
   "source": [
    "spyderUrl = \"https://docs.google.com/forms/d/e/********************/viewform\"\n",
    "# 偽裝用\n",
    "# headers = {\n",
    "#     \"Accept\": \"text/html,application/xhtml+xml,application/xml;q=0.9,image/avif,image/webp,image/apng,*/*;q=0.8,application/signed-exchange;v=b3;q=0.9\", \n",
    "#     \"Accept-Encoding\": \"gzip, deflate, br\", \n",
    "#     \"Accept-Language\": \"zh-TW,zh;q=0.9,en-US;q=0.8,en;q=0.7\", \n",
    "#     \"Host\": \"docs.google.com\",  #目標網站 \n",
    "#     \"Sec-Fetch-Dest\": \"document\", \n",
    "#     \"Sec-Fetch-Mode\": \"navigate\", \n",
    "#     \"Sec-Fetch-Site\": \"none\", \n",
    "#     \"Upgrade-Insecure-Requests\": \"1\", \n",
    "#     \"User-Agent\": \"Mozilla/5.0 (Macintosh; Intel Mac OS X 11_4_0) AppleWebKit/537.36 (KHTML, like Gecko) Chrome/89.0.4389.86 Safari/537.36\", #使用者代理\n",
    "#     \"Referer\": \"https://www.google.com/\"\n",
    "# }\n",
    "\n",
    "options = Options()\n",
    "options.add_argument(\"--disable-notifications\")\n",
    "\n",
    "# 若遇到錯誤 selenium.common.exceptions.WebDriverException: Message: unknown error: cannot find Chrome binary\n",
    "# 要設定binary位置\n",
    "options.binary_location = \"/Users/yihsiu/Desktop/Google Chrome.app/Contents/MacOS/Google Chrome\"\n",
    "\n",
    "chrome = webdriver.Chrome('./chromedriver', options=options)\n",
    "chrome.get(spyderUrl)"
   ]
  },
  {
   "cell_type": "markdown",
   "id": "6de29e10",
   "metadata": {},
   "source": [
    "### 用selenium填入項目"
   ]
  },
  {
   "cell_type": "code",
   "execution_count": 11,
   "id": "6c030f38",
   "metadata": {},
   "outputs": [
    {
     "name": "stdout",
     "output_type": "stream",
     "text": [
      "<selenium.webdriver.remote.webelement.WebElement (session=\"943e4f66c1d778f3a0b4fdbfbf6052be\", element=\"025a7f90-7721-471f-8e0e-1c694dd45dd0\")>\n"
     ]
    }
   ],
   "source": [
    "element = chrome.find_elements_by_css_selector('input.quantumWizTextinputPaperinputInput.exportInput')\n",
    "print(element[0])\n",
    "element[0].send_keys(\"測試填入姓名\")\n",
    "element[1].send_keys(\"填入電話\")\n",
    "\n",
    "# 選項有三個 看要按哪個0~2\n",
    "radioButton = chrome.find_elements_by_css_selector('label.docssharedWizToggleLabeledContainer.freebirdFormviewerComponentsQuestionRadioRadio')\n",
    "radioButton[1].click()"
   ]
  },
  {
   "cell_type": "code",
   "execution_count": 12,
   "id": "205a2d68",
   "metadata": {},
   "outputs": [],
   "source": [
    "# click送出button\n",
    "sendButton = chrome.find_elements_by_css_selector(\"span.appsMaterialWizButtonPaperbuttonContent.exportButtonContent\")\n",
    "sendButton[0].click()"
   ]
  },
  {
   "cell_type": "markdown",
   "id": "83d56254",
   "metadata": {},
   "source": [
    "## 方法2. 利用beautifulSoup + selenium 爬蟲爬出entry.id 然後根據post要的項目填入後直接送出"
   ]
  },
  {
   "cell_type": "code",
   "execution_count": 16,
   "id": "bf0eb27f",
   "metadata": {},
   "outputs": [
    {
     "name": "stdout",
     "output_type": "stream",
     "text": [
      "[<input name=\"entry.59437064\" type=\"hidden\" value=\"\"/>, <input name=\"entry.2027355597\" type=\"hidden\" value=\"\"/>, <input jsname=\"DTMEae\" name=\"entry.716179405_sentinel\" type=\"hidden\"/>, <input name=\"fvv\" type=\"hidden\" value=\"1\"/>, <input name=\"draftResponse\" type=\"hidden\" value='[null,null,\"-6274069285456166073\"]\n",
      "'/>, <input name=\"pageHistory\" type=\"hidden\" value=\"0\"/>, <input name=\"fbzx\" type=\"hidden\" value=\"-6274069285456166073\"/>]\n",
      "取出的值： ['entry.59437064', 'entry.2027355597', 'entry.716179405']\n"
     ]
    }
   ],
   "source": [
    "html = chrome.page_source\n",
    "soup = BeautifulSoup(html, 'html.parser')\n",
    "getInput = soup.find_all(\"input\",type=\"hidden\")\n",
    "print(getInput)\n",
    "# 取出 name值\n",
    "finalName = []\n",
    "for name in getInput:\n",
    "    getName = name.attrs[\"name\"]\n",
    "    if getName[0:5] == \"entry\":\n",
    "        finalName.append(getName.replace(\"_sentinel\",\"\"))\n",
    "        \n",
    "print(\"取出的值：\",finalName)"
   ]
  },
  {
   "cell_type": "code",
   "execution_count": 17,
   "id": "18043d5b",
   "metadata": {},
   "outputs": [
    {
     "name": "stdout",
     "output_type": "stream",
     "text": [
      "{'fvv': '0', 'draftResponse': '[]', 'pageHistory': '0', 'fbzx': '915303027356312637'}\n",
      "{'fvv': '0', 'draftResponse': '[]', 'pageHistory': '0', 'fbzx': '915303027356312637', 'entry.59437064': '姓名叫啥', 'entry.2027355597': '電話000000', 'entry.716179405': '選項 2'}\n",
      "填成功了 \n"
     ]
    }
   ],
   "source": [
    "# 發送出去的值\n",
    "inputData = {\n",
    "#     \"entry.59437064\": \"bb\",\n",
    "#     \"entry.2027355597\": \"me\",\n",
    "#     \"entry.716179405\": \"選項 1\",\n",
    "#     \"entry.716179405_sentinel\":\"選項 1\",\n",
    "    \"fvv\": \"0\",\n",
    "    \"draftResponse\": \"[]\",\n",
    "    \"pageHistory\": \"0\",\n",
    "    \"fbzx\": \"915303027356312637\"\n",
    "}\n",
    "print(inputData)\n",
    "\n",
    "# 根據取出的值放入要發送的物件中\n",
    "inputData[finalName[0]] = \"姓名叫啥\"\n",
    "inputData[finalName[1]] = \"電話000000\"\n",
    "inputData[finalName[2]] = \"選項 2\"\n",
    "\n",
    "print(inputData)\n",
    "# url = 'https://docs.google.com/forms/d/e/********************/formResponse'\n",
    "url = \"https://docs.google.com/forms/d/e/********************/formResponse\"\n",
    "\n",
    "try:\n",
    "    res = rq.post(url, data=inputData)\n",
    "    res.raise_for_status()\n",
    "    if res.status_code == 200 :\n",
    "        print('填成功了 ' )\n",
    "except requsets.HTTPError:\n",
    "    print('HTTP Error!')\n",
    "    \n",
    "    num -= 1"
   ]
  },
  {
   "cell_type": "code",
   "execution_count": null,
   "id": "82910a12",
   "metadata": {},
   "outputs": [],
   "source": []
  },
  {
   "cell_type": "code",
   "execution_count": null,
   "id": "31e4d446",
   "metadata": {},
   "outputs": [],
   "source": []
  },
  {
   "cell_type": "code",
   "execution_count": null,
   "id": "45835dce",
   "metadata": {},
   "outputs": [],
   "source": []
  }
 ],
 "metadata": {
  "kernelspec": {
   "display_name": "Python 3",
   "language": "python",
   "name": "python3"
  },
  "language_info": {
   "codemirror_mode": {
    "name": "ipython",
    "version": 3
   },
   "file_extension": ".py",
   "mimetype": "text/x-python",
   "name": "python",
   "nbconvert_exporter": "python",
   "pygments_lexer": "ipython3",
   "version": "3.9.5"
  }
 },
 "nbformat": 4,
 "nbformat_minor": 5
}
